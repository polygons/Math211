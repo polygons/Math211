{
 "cells": [
  {
   "cell_type": "code",
   "execution_count": 1,
   "id": "e5babe82",
   "metadata": {},
   "outputs": [
    {
     "data": {
      "text/plain": [
       "13"
      ]
     },
     "execution_count": 1,
     "metadata": {},
     "output_type": "execute_result"
    }
   ],
   "source": [
    "5 + 8"
   ]
  },
  {
   "cell_type": "code",
   "execution_count": 2,
   "id": "050ef442",
   "metadata": {},
   "outputs": [
    {
     "name": "stdout",
     "output_type": "stream",
     "text": [
      "13\n"
     ]
    }
   ],
   "source": [
    "print (5+8)"
   ]
  },
  {
   "cell_type": "code",
   "execution_count": 4,
   "id": "38dabc0d",
   "metadata": {},
   "outputs": [
    {
     "name": "stdout",
     "output_type": "stream",
     "text": [
      "13\n"
     ]
    }
   ],
   "source": [
    "print (5+8)"
   ]
  },
  {
   "cell_type": "markdown",
   "id": "5dd52742",
   "metadata": {},
   "source": [
    "2 ** 5"
   ]
  },
  {
   "cell_type": "code",
   "execution_count": 5,
   "id": "d600ad04",
   "metadata": {},
   "outputs": [
    {
     "name": "stdout",
     "output_type": "stream",
     "text": [
      "32\n"
     ]
    }
   ],
   "source": [
    "print (2 ** 5)"
   ]
  },
  {
   "cell_type": "code",
   "execution_count": 6,
   "id": "074cdf4e",
   "metadata": {},
   "outputs": [],
   "source": [
    " #this is a test"
   ]
  },
  {
   "cell_type": "code",
   "execution_count": 7,
   "id": "c19b6724",
   "metadata": {},
   "outputs": [],
   "source": [
    "##"
   ]
  },
  {
   "cell_type": "code",
   "execution_count": null,
   "id": "080bf40f",
   "metadata": {},
   "outputs": [],
   "source": [
    "math 211"
   ]
  },
  {
   "cell_type": "code",
   "execution_count": 19,
   "id": "bc20a3bc",
   "metadata": {},
   "outputs": [],
   "source": [
    "z = 25"
   ]
  },
  {
   "cell_type": "code",
   "execution_count": 20,
   "id": "f0e5288e",
   "metadata": {},
   "outputs": [
    {
     "name": "stdout",
     "output_type": "stream",
     "text": [
      "25\n"
     ]
    }
   ],
   "source": [
    "print (z)"
   ]
  },
  {
   "cell_type": "code",
   "execution_count": 10,
   "id": "c0961651",
   "metadata": {},
   "outputs": [
    {
     "name": "stdout",
     "output_type": "stream",
     "text": [
      "125\n"
     ]
    }
   ],
   "source": [
    "print (z + 100)"
   ]
  },
  {
   "cell_type": "code",
   "execution_count": 13,
   "id": "b25b8443",
   "metadata": {},
   "outputs": [
    {
     "name": "stdout",
     "output_type": "stream",
     "text": [
      "10\n"
     ]
    }
   ],
   "source": [
    "print (x)"
   ]
  },
  {
   "cell_type": "code",
   "execution_count": 12,
   "id": "d3c5a834",
   "metadata": {},
   "outputs": [],
   "source": [
    "x = 10"
   ]
  },
  {
   "cell_type": "code",
   "execution_count": 14,
   "id": "c1836fbe",
   "metadata": {},
   "outputs": [],
   "source": [
    "y = x + z"
   ]
  },
  {
   "cell_type": "code",
   "execution_count": 15,
   "id": "923dc55b",
   "metadata": {},
   "outputs": [
    {
     "name": "stdout",
     "output_type": "stream",
     "text": [
      "35\n"
     ]
    }
   ],
   "source": [
    "print (y)"
   ]
  },
  {
   "cell_type": "code",
   "execution_count": 16,
   "id": "8c33d507",
   "metadata": {},
   "outputs": [],
   "source": [
    "z = 15"
   ]
  },
  {
   "cell_type": "code",
   "execution_count": 17,
   "id": "4523bd41",
   "metadata": {},
   "outputs": [
    {
     "name": "stdout",
     "output_type": "stream",
     "text": [
      "15\n"
     ]
    }
   ],
   "source": [
    "print (z)"
   ]
  },
  {
   "cell_type": "code",
   "execution_count": 21,
   "id": "05538bcf",
   "metadata": {},
   "outputs": [
    {
     "data": {
      "text/plain": [
       "4.0"
      ]
     },
     "execution_count": 21,
     "metadata": {},
     "output_type": "execute_result"
    }
   ],
   "source": [
    " 20 / 5"
   ]
  },
  {
   "cell_type": "code",
   "execution_count": 22,
   "id": "effe95f3",
   "metadata": {},
   "outputs": [
    {
     "data": {
      "text/plain": [
       "3.2"
      ]
     },
     "execution_count": 22,
     "metadata": {},
     "output_type": "execute_result"
    }
   ],
   "source": [
    "16/5"
   ]
  },
  {
   "cell_type": "code",
   "execution_count": 23,
   "id": "63065243",
   "metadata": {},
   "outputs": [],
   "source": [
    "p = 3.9"
   ]
  },
  {
   "cell_type": "code",
   "execution_count": 24,
   "id": "77cba216",
   "metadata": {},
   "outputs": [
    {
     "data": {
      "text/plain": [
       "float"
      ]
     },
     "execution_count": 24,
     "metadata": {},
     "output_type": "execute_result"
    }
   ],
   "source": [
    "type(p)"
   ]
  },
  {
   "cell_type": "code",
   "execution_count": 25,
   "id": "33e50ad6",
   "metadata": {},
   "outputs": [
    {
     "data": {
      "text/plain": [
       "int"
      ]
     },
     "execution_count": 25,
     "metadata": {},
     "output_type": "execute_result"
    }
   ],
   "source": [
    "type (y)"
   ]
  },
  {
   "cell_type": "code",
   "execution_count": 26,
   "id": "ede4dbde",
   "metadata": {},
   "outputs": [
    {
     "data": {
      "text/plain": [
       "4"
      ]
     },
     "execution_count": 26,
     "metadata": {},
     "output_type": "execute_result"
    }
   ],
   "source": [
    "13 // 3"
   ]
  },
  {
   "cell_type": "code",
   "execution_count": 27,
   "id": "0ab5ca64",
   "metadata": {},
   "outputs": [
    {
     "data": {
      "text/plain": [
       "4.333333333333333"
      ]
     },
     "execution_count": 27,
     "metadata": {},
     "output_type": "execute_result"
    }
   ],
   "source": [
    "13 / 3"
   ]
  },
  {
   "cell_type": "markdown",
   "id": "e3ae21c7",
   "metadata": {},
   "source": [
    "## Modulus"
   ]
  },
  {
   "cell_type": "code",
   "execution_count": 28,
   "id": "c11ed13d",
   "metadata": {},
   "outputs": [
    {
     "data": {
      "text/plain": [
       "1"
      ]
     },
     "execution_count": 28,
     "metadata": {},
     "output_type": "execute_result"
    }
   ],
   "source": [
    "13 % 3"
   ]
  },
  {
   "cell_type": "code",
   "execution_count": 29,
   "id": "cd6994b1",
   "metadata": {},
   "outputs": [
    {
     "name": "stdout",
     "output_type": "stream",
     "text": [
      "5+8\n"
     ]
    }
   ],
   "source": [
    "print (\"5+8\")"
   ]
  },
  {
   "cell_type": "code",
   "execution_count": 30,
   "id": "a84bbaac",
   "metadata": {},
   "outputs": [
    {
     "name": "stdout",
     "output_type": "stream",
     "text": [
      "What is your name\n"
     ]
    }
   ],
   "source": [
    "print(\"What is your name\")"
   ]
  },
  {
   "cell_type": "code",
   "execution_count": 31,
   "id": "f9fadc5d",
   "metadata": {},
   "outputs": [
    {
     "name": "stdout",
     "output_type": "stream",
     "text": [
      "what is your name\n"
     ]
    }
   ],
   "source": [
    "print ('what is your name')"
   ]
  },
  {
   "cell_type": "code",
   "execution_count": 32,
   "id": "33e22ec8",
   "metadata": {},
   "outputs": [],
   "source": [
    "a = 4\n",
    "b = 5\n",
    "c = a ** b"
   ]
  },
  {
   "cell_type": "code",
   "execution_count": 33,
   "id": "0119c669",
   "metadata": {},
   "outputs": [
    {
     "name": "stdout",
     "output_type": "stream",
     "text": [
      "4\n"
     ]
    }
   ],
   "source": [
    "print (a)"
   ]
  },
  {
   "cell_type": "code",
   "execution_count": 34,
   "id": "0cc47570",
   "metadata": {},
   "outputs": [
    {
     "name": "stdout",
     "output_type": "stream",
     "text": [
      "4 5 1024\n"
     ]
    }
   ],
   "source": [
    "print (a,b,c)"
   ]
  },
  {
   "cell_type": "code",
   "execution_count": 35,
   "id": "b4cc344c",
   "metadata": {},
   "outputs": [
    {
     "name": "stdout",
     "output_type": "stream",
     "text": [
      "the value of c is  1024\n"
     ]
    }
   ],
   "source": [
    "print (\"the value of c is \", c)"
   ]
  },
  {
   "cell_type": "code",
   "execution_count": 36,
   "id": "d9600775",
   "metadata": {},
   "outputs": [],
   "source": [
    "a,b,c,d = 1,2,3,4"
   ]
  },
  {
   "cell_type": "code",
   "execution_count": 37,
   "id": "39e8dd69",
   "metadata": {},
   "outputs": [
    {
     "name": "stdout",
     "output_type": "stream",
     "text": [
      "3\n"
     ]
    }
   ],
   "source": [
    "print (c)"
   ]
  },
  {
   "cell_type": "code",
   "execution_count": 39,
   "id": "424be2dc",
   "metadata": {},
   "outputs": [],
   "source": [
    "q,w,e,r = 1,2,3,0"
   ]
  },
  {
   "cell_type": "code",
   "execution_count": 40,
   "id": "8865cea6",
   "metadata": {},
   "outputs": [
    {
     "data": {
      "text/plain": [
       "False"
      ]
     },
     "execution_count": 40,
     "metadata": {},
     "output_type": "execute_result"
    }
   ],
   "source": [
    "4  > 5"
   ]
  },
  {
   "cell_type": "code",
   "execution_count": 41,
   "id": "81740151",
   "metadata": {},
   "outputs": [
    {
     "data": {
      "text/plain": [
       "True"
      ]
     },
     "execution_count": 41,
     "metadata": {},
     "output_type": "execute_result"
    }
   ],
   "source": [
    "45 < 80"
   ]
  },
  {
   "cell_type": "code",
   "execution_count": 42,
   "id": "915f33fb",
   "metadata": {},
   "outputs": [
    {
     "data": {
      "text/plain": [
       "bool"
      ]
     },
     "execution_count": 42,
     "metadata": {},
     "output_type": "execute_result"
    }
   ],
   "source": [
    "type(45 < 80)"
   ]
  },
  {
   "cell_type": "markdown",
   "id": "a17626f8",
   "metadata": {},
   "source": [
    "## bool = Boolean Logic, < == >"
   ]
  },
  {
   "cell_type": "code",
   "execution_count": 43,
   "id": "e50bd839",
   "metadata": {},
   "outputs": [
    {
     "name": "stdout",
     "output_type": "stream",
     "text": [
      "True\n"
     ]
    }
   ],
   "source": [
    "print ( 5 == 5)"
   ]
  },
  {
   "cell_type": "code",
   "execution_count": 44,
   "id": "4ac1ac37",
   "metadata": {},
   "outputs": [
    {
     "data": {
      "text/plain": [
       "True"
      ]
     },
     "execution_count": 44,
     "metadata": {},
     "output_type": "execute_result"
    }
   ],
   "source": [
    "4 <= 4"
   ]
  },
  {
   "cell_type": "code",
   "execution_count": 47,
   "id": "3587a39a",
   "metadata": {},
   "outputs": [],
   "source": [
    "i = 10\n",
    "j = 15"
   ]
  },
  {
   "cell_type": "code",
   "execution_count": 46,
   "id": "c984d559",
   "metadata": {},
   "outputs": [
    {
     "name": "stdout",
     "output_type": "stream",
     "text": [
      "10\n"
     ]
    }
   ],
   "source": [
    "print (i)"
   ]
  },
  {
   "cell_type": "code",
   "execution_count": 50,
   "id": "533e104d",
   "metadata": {},
   "outputs": [
    {
     "name": "stdout",
     "output_type": "stream",
     "text": [
      " i is not equal to j\n",
      " this is great\n"
     ]
    }
   ],
   "source": [
    "if (i == j):\n",
    "    print (\"i is equal to j\")\n",
    "if (i > j):\n",
    "    print (\" i is not equal to j\")\n",
    "    print (\" this is great\")\n",
    "    "
   ]
  },
  {
   "cell_type": "code",
   "execution_count": 51,
   "id": "1819e871",
   "metadata": {},
   "outputs": [],
   "source": [
    "k = 9\n",
    "u = 20"
   ]
  },
  {
   "cell_type": "code",
   "execution_count": 53,
   "id": "44b7fc04",
   "metadata": {},
   "outputs": [
    {
     "name": "stdout",
     "output_type": "stream",
     "text": [
      "k is  9 , u is  20\n"
     ]
    }
   ],
   "source": [
    "print ( \"k is \", k, \", u is \", u)"
   ]
  },
  {
   "cell_type": "code",
   "execution_count": 54,
   "id": "9987e733",
   "metadata": {},
   "outputs": [],
   "source": [
    "temp = k\n",
    "k = u\n",
    "u = temp"
   ]
  },
  {
   "cell_type": "code",
   "execution_count": 55,
   "id": "56ac1330",
   "metadata": {},
   "outputs": [
    {
     "name": "stdout",
     "output_type": "stream",
     "text": [
      "k is  20 , u is  9\n"
     ]
    }
   ],
   "source": [
    "print ( \"k is \", k, \", u is \", u)"
   ]
  },
  {
   "cell_type": "code",
   "execution_count": 67,
   "id": "42ecb8cf",
   "metadata": {},
   "outputs": [],
   "source": [
    "x = 5\n",
    "y = 10"
   ]
  },
  {
   "cell_type": "code",
   "execution_count": 68,
   "id": "2ada888c",
   "metadata": {},
   "outputs": [
    {
     "name": "stdout",
     "output_type": "stream",
     "text": [
      "x=  5 , y = 10\n"
     ]
    }
   ],
   "source": [
    "print (\"x= \", x , \", y =\",y)"
   ]
  },
  {
   "cell_type": "code",
   "execution_count": 65,
   "id": "d078f075",
   "metadata": {},
   "outputs": [],
   "source": [
    "#x,y=y,x"
   ]
  },
  {
   "cell_type": "code",
   "execution_count": 69,
   "id": "fdb690b4",
   "metadata": {},
   "outputs": [],
   "source": [
    "#print (\"x= \", x , \", y =\",y)"
   ]
  },
  {
   "cell_type": "code",
   "execution_count": 70,
   "id": "8af71dc6",
   "metadata": {},
   "outputs": [
    {
     "data": {
      "text/plain": [
       "5"
      ]
     },
     "execution_count": 70,
     "metadata": {},
     "output_type": "execute_result"
    }
   ],
   "source": [
    "x"
   ]
  },
  {
   "cell_type": "code",
   "execution_count": 71,
   "id": "b8050cdf",
   "metadata": {},
   "outputs": [
    {
     "name": "stdout",
     "output_type": "stream",
     "text": [
      "5\n"
     ]
    }
   ],
   "source": [
    "x = y + x\n",
    "y = x-y\n",
    "print (y)"
   ]
  },
  {
   "cell_type": "code",
   "execution_count": 72,
   "id": "66478da0",
   "metadata": {},
   "outputs": [
    {
     "name": "stdout",
     "output_type": "stream",
     "text": [
      "15\n"
     ]
    }
   ],
   "source": [
    "print (x)"
   ]
  },
  {
   "cell_type": "code",
   "execution_count": 73,
   "id": "e1770028",
   "metadata": {},
   "outputs": [
    {
     "name": "stdout",
     "output_type": "stream",
     "text": [
      "10\n"
     ]
    }
   ],
   "source": [
    "x = x - y\n",
    "print ( x)"
   ]
  },
  {
   "cell_type": "code",
   "execution_count": 74,
   "id": "81176a74",
   "metadata": {},
   "outputs": [
    {
     "name": "stdout",
     "output_type": "stream",
     "text": [
      "x=  10 , y = 5\n"
     ]
    }
   ],
   "source": [
    "print (\"x= \", x , \", y =\",y)"
   ]
  },
  {
   "cell_type": "code",
   "execution_count": null,
   "id": "d4fcedae",
   "metadata": {},
   "outputs": [],
   "source": []
  }
 ],
 "metadata": {
  "kernelspec": {
   "display_name": "Python 3",
   "language": "python",
   "name": "python3"
  },
  "language_info": {
   "codemirror_mode": {
    "name": "ipython",
    "version": 3
   },
   "file_extension": ".py",
   "mimetype": "text/x-python",
   "name": "python",
   "nbconvert_exporter": "python",
   "pygments_lexer": "ipython3",
   "version": "3.7.8"
  }
 },
 "nbformat": 4,
 "nbformat_minor": 5
}
